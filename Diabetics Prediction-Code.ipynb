{
 "cells": [
  {
   "cell_type": "code",
   "execution_count": null,
   "id": "7abb438b",
   "metadata": {},
   "outputs": [],
   "source": [
    "# Importing necessary libraries\n",
    "import pandas as pd\n",
    "import numpy as np\n",
    "import seaborn as sns\n",
    "import matplotlib.pyplot as plt\n",
    "from sklearn.model_selection import train_test_split\n",
    "from sklearn.preprocessing import StandardScaler, LabelEncoder\n",
    "from sklearn.linear_model import LogisticRegression\n",
    "from sklearn.tree import DecisionTreeClassifier\n",
    "from sklearn.ensemble import RandomForestClassifier, GradientBoostingClassifier\n",
    "from sklearn.svm import SVC\n",
    "from sklearn.neighbors import KNeighborsClassifier\n",
    "from sklearn.cluster import KMeans, AgglomerativeClustering\n",
    "from sklearn.metrics import accuracy_score, confusion_matrix, classification_report\n",
    "from imblearn.under_sampling import RandomUnderSampler\n"
   ]
  },
  {
   "cell_type": "code",
   "execution_count": null,
   "id": "31e848fc",
   "metadata": {},
   "outputs": [],
   "source": [
    "# Load the dataset\n",
    "print(\"Loading dataset...\")\n",
    "df = pd.read_csv(\"cdc_diabetes_health_indicators.csv\")\n",
    "print(df.head())\n"
   ]
  },
  {
   "cell_type": "code",
   "execution_count": null,
   "id": "97f23ff0",
   "metadata": {},
   "outputs": [],
   "source": [
    "# Data Summary\n",
    "print(\"Dataset Info:\")\n",
    "print(df.info())\n",
    "\n"
   ]
  },
  {
   "cell_type": "code",
   "execution_count": null,
   "id": "3d8cb847",
   "metadata": {},
   "outputs": [],
   "source": [
    "print(\"\\nDataset Description:\")\n",
    "print(df.describe())"
   ]
  },
  {
   "cell_type": "code",
   "execution_count": null,
   "id": "e38b609f",
   "metadata": {},
   "outputs": [],
   "source": [
    "# Handling Duplicates\n",
    "df = df.drop_duplicates()\n",
    "print(f\"\\nDuplicates Removed, New Shape: {df.shape}\")"
   ]
  },
  {
   "cell_type": "code",
   "execution_count": null,
   "id": "5001263f",
   "metadata": {},
   "outputs": [],
   "source": [
    "# Categorizing Categorical Columns\n",
    "categorical_columns = ['Sex', 'Education', 'Income', 'HighBP', 'HighChol', 'CholCheck',\n",
    "                       'Smoker', 'Stroke', 'HeartDiseaseorAttack', 'PhysActivity',\n",
    "                       'Fruits', 'Veggies', 'HvyAlcoholConsump', 'AnyHealthcare',\n",
    "                       'NoDocbcCost', 'DiffWalk']\n",
    "df[categorical_columns] = df[categorical_columns].astype('category')"
   ]
  },
  {
   "cell_type": "code",
   "execution_count": null,
   "id": "d5c47727",
   "metadata": {},
   "outputs": [],
   "source": [
    "# Boxplots for Numeric Columns\n",
    "numeric_columns = ['BMI', 'MentHlth', 'PhysHlth']\n",
    "for col in numeric_columns:\n",
    "    plt.figure(figsize=(6,4))\n",
    "    sns.boxplot(x=df[col])\n",
    "    plt.title(f\"Outliers in {col}\")\n",
    "    plt.show()"
   ]
  },
  {
   "cell_type": "code",
   "execution_count": null,
   "id": "17d31751",
   "metadata": {},
   "outputs": [],
   "source": [
    "# Handling Outliers using IQR Method\n",
    "numeric_columns = ['BMI', 'MentHlth', 'PhysHlth']\n",
    "for col in numeric_columns:\n",
    "    Q1 = df[col].quantile(0.25)\n",
    "    Q3 = df[col].quantile(0.75)\n",
    "    IQR = Q3 - Q1\n",
    "    lower_bound = Q1 - 1.5 * IQR\n",
    "    upper_bound = Q3 + 1.5 * IQR\n",
    "    df = df[(df[col] >= lower_bound) & (df[col] <= upper_bound)]"
   ]
  },
  {
   "cell_type": "code",
   "execution_count": null,
   "id": "23ee0ca1",
   "metadata": {},
   "outputs": [],
   "source": [
    "# Visualization - Distribution of Categorical Features\n",
    "for col in categorical_columns:\n",
    "    plt.figure(figsize=(6,4))\n",
    "    sns.countplot(x=col, data=df)\n",
    "    plt.title(f\"Distribution of {col}\")\n",
    "    plt.show()\n",
    "\n"
   ]
  },
  {
   "cell_type": "code",
   "execution_count": null,
   "id": "e325050d",
   "metadata": {},
   "outputs": [],
   "source": [
    "# Encoding Categorical Variables\n",
    "df_encoded = df.copy()\n",
    "df_encoded[categorical_columns] = df_encoded[categorical_columns].apply(lambda x: x.cat.codes)"
   ]
  },
  {
   "cell_type": "code",
   "execution_count": null,
   "id": "84645b0d",
   "metadata": {},
   "outputs": [],
   "source": [
    "# Heatmap to show correlation\n",
    "plt.figure(figsize=(12,8))\n",
    "sns.heatmap(df_encoded.corr(), annot=True, cmap='coolwarm', fmt=\".2f\")\n",
    "plt.title(\"Correlation Heatmap\")\n",
    "plt.show()"
   ]
  },
  {
   "cell_type": "code",
   "execution_count": null,
   "id": "f3f90b7f",
   "metadata": {},
   "outputs": [],
   "source": [
    "# Defining Features and Target\n",
    "X = df_encoded.drop(columns=[\"Diabetes_binary\"])\n",
    "y = df_encoded[\"Diabetes_binary\"]\n",
    "\n"
   ]
  },
  {
   "cell_type": "code",
   "execution_count": null,
   "id": "a6cf3bc6",
   "metadata": {},
   "outputs": [],
   "source": [
    "# Handling Class Imbalance\n",
    "rus = RandomUnderSampler(sampling_strategy={0: 20099, 1: 20099}, random_state=42)\n",
    "X_resampled, y_resampled = rus.fit_resample(X, y)\n"
   ]
  },
  {
   "cell_type": "code",
   "execution_count": null,
   "id": "33c96a72",
   "metadata": {},
   "outputs": [],
   "source": [
    "# Splitting Data into Training and Testing Sets\n",
    "X_train, X_test, y_train, y_test = train_test_split(X_resampled, y_resampled, test_size=0.2, random_state=42)"
   ]
  },
  {
   "cell_type": "code",
   "execution_count": null,
   "id": "f74f3c6c",
   "metadata": {},
   "outputs": [],
   "source": [
    "# Standardizing the Features\n",
    "scaler = StandardScaler()\n",
    "X_train = scaler.fit_transform(X_train)\n",
    "X_test = scaler.transform(X_test)\n"
   ]
  },
  {
   "cell_type": "code",
   "execution_count": null,
   "id": "4f519202",
   "metadata": {},
   "outputs": [],
   "source": [
    "# Model Training and Evaluation\n",
    "models = {\n",
    "    \"Logistic Regression\": LogisticRegression(max_iter=1000),\n",
    "    \"Decision Tree\": DecisionTreeClassifier(),\n",
    "    \"Random Forest\": RandomForestClassifier(),\n",
    "    \"Gradient Boosting\": GradientBoostingClassifier(),\n",
    "    \"SVM\": SVC(),\n",
    "    \"KNN\": KNeighborsClassifier()\n",
    "}\n",
    "\n",
    "results = {}\n",
    "for name, model in models.items():\n",
    "    print(f\"Training {name}...\")\n",
    "    model.fit(X_train, y_train)\n",
    "    y_pred = model.predict(X_test)\n",
    "    acc = accuracy_score(y_test, y_pred)\n",
    "    results[name] = acc\n",
    "    print(f\"Accuracy: {acc:.4f}\")\n",
    "    print(\"Classification Report:\\n\", classification_report(y_test, y_pred))\n",
    "    plt.figure(figsize=(5,4))\n",
    "    sns.heatmap(confusion_matrix(y_test, y_pred), annot=True, fmt='d', cmap='Blues', xticklabels=[\"Non-Diabetic\", \"Diabetic\"], yticklabels=[\"Non-Diabetic\", \"Diabetic\"])\n",
    "    plt.title(f\"{name} - Confusion Matrix\")\n",
    "    plt.xlabel(\"Predicted\")\n",
    "    plt.ylabel(\"Actual\")\n",
    "    plt.show()\n"
   ]
  },
  {
   "cell_type": "code",
   "execution_count": null,
   "id": "3931514b",
   "metadata": {},
   "outputs": [],
   "source": [
    "# Model Comparison\n",
    "best_model = max(results, key=results.get)\n",
    "print(f\"Best Performing Model: {best_model} with Accuracy: {results[best_model]:.4f}\")"
   ]
  },
  {
   "cell_type": "code",
   "execution_count": null,
   "id": "bf2ac67f",
   "metadata": {},
   "outputs": [],
   "source": [
    "plt.figure(figsize=(8, 5))\n",
    "sns.barplot(x=list(results.keys()), y=list(results.values()), palette='viridis')\n",
    "plt.ylabel(\"Accuracy Score\")\n",
    "plt.title(\"Model Comparison\")\n",
    "plt.xticks(rotation=45)\n",
    "plt.show()\n",
    "\n"
   ]
  },
  {
   "cell_type": "code",
   "execution_count": null,
   "id": "1090bb72",
   "metadata": {},
   "outputs": [],
   "source": [
    "# Display Sample Predictions\n",
    "comparison_df = pd.DataFrame({'Actual': y_test.values, 'Predicted': models[best_model].predict(X_test)})\n",
    "print(\"Sample Predictions:\")\n",
    "print(comparison_df.sample(10))\n"
   ]
  },
  {
   "cell_type": "code",
   "execution_count": null,
   "id": "ab3d06a1",
   "metadata": {},
   "outputs": [],
   "source": [
    "\n"
   ]
  }
 ],
 "metadata": {
  "kernelspec": {
   "display_name": "Python 3 (ipykernel)",
   "language": "python",
   "name": "python3"
  },
  "language_info": {
   "codemirror_mode": {
    "name": "ipython",
    "version": 3
   },
   "file_extension": ".py",
   "mimetype": "text/x-python",
   "name": "python",
   "nbconvert_exporter": "python",
   "pygments_lexer": "ipython3",
   "version": "3.11.5"
  }
 },
 "nbformat": 4,
 "nbformat_minor": 5
}
